{
  "nbformat": 4,
  "nbformat_minor": 0,
  "metadata": {
    "colab": {
      "name": "1.ipynb",
      "provenance": [],
      "authorship_tag": "ABX9TyPDHtH3pf/GaEsnoWyqgcf8",
      "include_colab_link": true
    },
    "kernelspec": {
      "name": "python3",
      "display_name": "Python 3"
    },
    "language_info": {
      "name": "python"
    }
  },
  "cells": [
    {
      "cell_type": "markdown",
      "metadata": {
        "id": "view-in-github",
        "colab_type": "text"
      },
      "source": [
        "<a href=\"https://colab.research.google.com/github/Ashwini189/LetsUpgrade/blob/main/Day2.ipynb\" target=\"_parent\"><img src=\"https://colab.research.google.com/assets/colab-badge.svg\" alt=\"Open In Colab\"/></a>"
      ]
    },
    {
      "cell_type": "code",
      "metadata": {
        "colab": {
          "base_uri": "https://localhost:8080/"
        },
        "id": "abL75-a-vj4y",
        "outputId": "07eda1ff-0bb0-49c4-fb94-0ef11f776425"
      },
      "source": [
        "#Remove all occurences of an element from list\n",
        "li = [1,2,3,4,4,3,4,2]\n",
        "newarr = []\n",
        "for i in li:\n",
        "  if i not in newarr:\n",
        "    newarr.append(i)\n",
        "print(newarr) "
      ],
      "execution_count": 1,
      "outputs": [
        {
          "output_type": "stream",
          "text": [
            "[1, 2, 3, 4]\n"
          ],
          "name": "stdout"
        }
      ]
    },
    {
      "cell_type": "code",
      "metadata": {
        "colab": {
          "base_uri": "https://localhost:8080/"
        },
        "id": "_5IqaxOwvlsj",
        "outputId": "7c307621-0a0b-46be-d6fa-8d827c3152ee"
      },
      "source": [
        "#Generating OTP\n",
        "import random as r\n",
        "import string\n",
        "length = 8\n",
        "otp = ''\n",
        "characters = string.ascii_letters + string.digits \n",
        "for i in range(length):\n",
        "  otp = otp + r.choice(characters)\n",
        "print(\"OTP:\",otp)"
      ],
      "execution_count": 2,
      "outputs": [
        {
          "output_type": "stream",
          "text": [
            "OTP: 3qCfdegK\n"
          ],
          "name": "stdout"
        }
      ]
    },
    {
      "cell_type": "code",
      "metadata": {
        "colab": {
          "base_uri": "https://localhost:8080/"
        },
        "id": "3Dn3dGWRxj2y",
        "outputId": "2c73142c-6f77-4e2b-c949-a6e2d56e4109"
      },
      "source": [
        "#check whether given sentence is pangram\n",
        "import string\n",
        "\n",
        "def ispangram(sentence, alphabet=string.ascii_lowercase): \n",
        "    return set(alphabet) <= set(sentence.lower()) \n",
        "\n",
        "print(ispangram(input('Sentence: ')))"
      ],
      "execution_count": 4,
      "outputs": [
        {
          "output_type": "stream",
          "text": [
            "Sentence: The quick brown fox jumps over the lazy dog\n",
            "True\n"
          ],
          "name": "stdout"
        }
      ]
    },
    {
      "cell_type": "code",
      "metadata": {
        "id": "Ot0gJ6EFxlYt"
      },
      "source": [
        ""
      ],
      "execution_count": null,
      "outputs": []
    }
  ]
}
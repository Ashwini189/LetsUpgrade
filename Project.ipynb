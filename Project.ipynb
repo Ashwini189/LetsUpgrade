{
  "nbformat": 4,
  "nbformat_minor": 0,
  "metadata": {
    "colab": {
      "name": "Untitled3.ipynb",
      "provenance": [],
      "authorship_tag": "ABX9TyNFeylm5vL2ZiOzdkSRMknN",
      "include_colab_link": true
    },
    "kernelspec": {
      "name": "python3",
      "display_name": "Python 3"
    },
    "language_info": {
      "name": "python"
    }
  },
  "cells": [
    {
      "cell_type": "markdown",
      "metadata": {
        "id": "view-in-github",
        "colab_type": "text"
      },
      "source": [
        "<a href=\"https://colab.research.google.com/github/Ashwini189/LetsUpgrade/blob/main/Project.ipynb\" target=\"_parent\"><img src=\"https://colab.research.google.com/assets/colab-badge.svg\" alt=\"Open In Colab\"/></a>"
      ]
    },
    {
      "cell_type": "code",
      "metadata": {
        "id": "4qcn6PASnr3R"
      },
      "source": [
        "#project"
      ],
      "execution_count": 1,
      "outputs": []
    },
    {
      "cell_type": "code",
      "metadata": {
        "colab": {
          "base_uri": "https://localhost:8080/"
        },
        "id": "GppLyaObnufI",
        "outputId": "72f28dfa-cdad-4590-9b5d-f806fac39bb0"
      },
      "source": [
        "temperature = int(input(\"Enter temperature: \"))\n",
        "F=(temperature*9/5)+32\n",
        "print(\"temperature in degrees:\",temperature,'\\N{DEGREE SIGN}C')\n",
        "print(\"temperature in farhenhiet:\",F,'\\N{DEGREE SIGN}f')"
      ],
      "execution_count": 3,
      "outputs": [
        {
          "output_type": "stream",
          "text": [
            "Enter temperature: 50\n",
            "temperature in degrees: 50 °C\n",
            "temperature in farhenhiet: 122.0 °f\n"
          ],
          "name": "stdout"
        }
      ]
    },
    {
      "cell_type": "code",
      "metadata": {
        "id": "V3voNlwspyVK"
      },
      "source": [
        ""
      ],
      "execution_count": null,
      "outputs": []
    }
  ]
}